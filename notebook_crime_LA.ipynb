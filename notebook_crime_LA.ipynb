{
 "cells": [
  {
   "cell_type": "code",
   "execution_count": 96,
   "id": "7c6c3c36-5c8b-4cce-8681-95292b8f0861",
   "metadata": {
    "executionCancelledAt": null,
    "executionTime": 304,
    "lastExecutedAt": 1758292169702,
    "lastExecutedByKernel": "52e7cd52-15df-4cf2-9b4a-c78aaae7fe2f",
    "lastScheduledRunId": null,
    "lastSuccessfullyExecutedCode": "# Re-run this cell\n# Import required libraries\nimport pandas as pd\nimport numpy as np\nimport matplotlib.pyplot as plt\nimport seaborn as sns\ncrimes = pd.read_csv(\"crimes.csv\", dtype={\"TIME OCC\": str})\ncrimes.head()",
    "outputsMetadata": {
     "0": {
      "height": 550,
      "tableState": {
       "quickFilterText": ""
      },
      "type": "dataFrame"
     }
    }
   },
   "outputs": [
    {
     "data": {
      "application/com.datacamp.data-table.v2+json": {
       "table": {
        "data": {
         "AREA NAME": [
          "Southwest",
          "Olympic",
          "Hollywood",
          "77th Street",
          "Rampart"
         ],
         "Crm Cd Desc": [
          "THEFT OF IDENTITY",
          "THEFT OF IDENTITY",
          "THEFT OF IDENTITY",
          "THEFT OF IDENTITY",
          "THEFT OF IDENTITY"
         ],
         "DATE OCC": [
          "2020-05-12",
          "2020-06-04",
          "2020-08-17",
          "2020-01-27",
          "2020-07-14"
         ],
         "DR_NO": [
          220314085,
          222013040,
          220614831,
          231207725,
          220213256
         ],
         "Date Rptd": [
          "2022-07-22",
          "2022-08-06",
          "2022-08-18",
          "2023-02-27",
          "2022-07-14"
         ],
         "LOCATION": [
          "2500 S  SYCAMORE                     AV",
          "3300    SAN MARINO                   ST",
          "1900    TRANSIENT",
          "6200    4TH                          AV",
          "1200 W  7TH                          ST"
         ],
         "Status Desc": [
          "Invest Cont",
          "Invest Cont",
          "Invest Cont",
          "Invest Cont",
          "Invest Cont"
         ],
         "TIME OCC": [
          "1110",
          "1620",
          "1200",
          "0635",
          "0900"
         ],
         "Vict Age": [
          27,
          60,
          28,
          37,
          79
         ],
         "Vict Descent": [
          "B",
          "H",
          "H",
          "H",
          "B"
         ],
         "Vict Sex": [
          "F",
          "M",
          "M",
          "M",
          "M"
         ],
         "Weapon Desc": [
          null,
          null,
          null,
          null,
          null
         ],
         "index": [
          0,
          1,
          2,
          3,
          4
         ]
        },
        "schema": {
         "fields": [
          {
           "name": "index",
           "type": "integer"
          },
          {
           "name": "DR_NO",
           "type": "integer"
          },
          {
           "name": "Date Rptd",
           "type": "string"
          },
          {
           "name": "DATE OCC",
           "type": "string"
          },
          {
           "name": "TIME OCC",
           "type": "string"
          },
          {
           "name": "AREA NAME",
           "type": "string"
          },
          {
           "name": "Crm Cd Desc",
           "type": "string"
          },
          {
           "name": "Vict Age",
           "type": "integer"
          },
          {
           "name": "Vict Sex",
           "type": "string"
          },
          {
           "name": "Vict Descent",
           "type": "string"
          },
          {
           "name": "Weapon Desc",
           "type": "string"
          },
          {
           "name": "Status Desc",
           "type": "string"
          },
          {
           "name": "LOCATION",
           "type": "string"
          }
         ],
         "pandas_version": "1.4.0",
         "primaryKey": [
          "index"
         ]
        }
       },
       "total_rows": 5,
       "truncation_type": null
      },
      "text/html": [
       "<div>\n",
       "<style scoped>\n",
       "    .dataframe tbody tr th:only-of-type {\n",
       "        vertical-align: middle;\n",
       "    }\n",
       "\n",
       "    .dataframe tbody tr th {\n",
       "        vertical-align: top;\n",
       "    }\n",
       "\n",
       "    .dataframe thead th {\n",
       "        text-align: right;\n",
       "    }\n",
       "</style>\n",
       "<table border=\"1\" class=\"dataframe\">\n",
       "  <thead>\n",
       "    <tr style=\"text-align: right;\">\n",
       "      <th></th>\n",
       "      <th>DR_NO</th>\n",
       "      <th>Date Rptd</th>\n",
       "      <th>DATE OCC</th>\n",
       "      <th>TIME OCC</th>\n",
       "      <th>AREA NAME</th>\n",
       "      <th>Crm Cd Desc</th>\n",
       "      <th>Vict Age</th>\n",
       "      <th>Vict Sex</th>\n",
       "      <th>Vict Descent</th>\n",
       "      <th>Weapon Desc</th>\n",
       "      <th>Status Desc</th>\n",
       "      <th>LOCATION</th>\n",
       "    </tr>\n",
       "  </thead>\n",
       "  <tbody>\n",
       "    <tr>\n",
       "      <th>0</th>\n",
       "      <td>220314085</td>\n",
       "      <td>2022-07-22</td>\n",
       "      <td>2020-05-12</td>\n",
       "      <td>1110</td>\n",
       "      <td>Southwest</td>\n",
       "      <td>THEFT OF IDENTITY</td>\n",
       "      <td>27</td>\n",
       "      <td>F</td>\n",
       "      <td>B</td>\n",
       "      <td>NaN</td>\n",
       "      <td>Invest Cont</td>\n",
       "      <td>2500 S  SYCAMORE                     AV</td>\n",
       "    </tr>\n",
       "    <tr>\n",
       "      <th>1</th>\n",
       "      <td>222013040</td>\n",
       "      <td>2022-08-06</td>\n",
       "      <td>2020-06-04</td>\n",
       "      <td>1620</td>\n",
       "      <td>Olympic</td>\n",
       "      <td>THEFT OF IDENTITY</td>\n",
       "      <td>60</td>\n",
       "      <td>M</td>\n",
       "      <td>H</td>\n",
       "      <td>NaN</td>\n",
       "      <td>Invest Cont</td>\n",
       "      <td>3300    SAN MARINO                   ST</td>\n",
       "    </tr>\n",
       "    <tr>\n",
       "      <th>2</th>\n",
       "      <td>220614831</td>\n",
       "      <td>2022-08-18</td>\n",
       "      <td>2020-08-17</td>\n",
       "      <td>1200</td>\n",
       "      <td>Hollywood</td>\n",
       "      <td>THEFT OF IDENTITY</td>\n",
       "      <td>28</td>\n",
       "      <td>M</td>\n",
       "      <td>H</td>\n",
       "      <td>NaN</td>\n",
       "      <td>Invest Cont</td>\n",
       "      <td>1900    TRANSIENT</td>\n",
       "    </tr>\n",
       "    <tr>\n",
       "      <th>3</th>\n",
       "      <td>231207725</td>\n",
       "      <td>2023-02-27</td>\n",
       "      <td>2020-01-27</td>\n",
       "      <td>0635</td>\n",
       "      <td>77th Street</td>\n",
       "      <td>THEFT OF IDENTITY</td>\n",
       "      <td>37</td>\n",
       "      <td>M</td>\n",
       "      <td>H</td>\n",
       "      <td>NaN</td>\n",
       "      <td>Invest Cont</td>\n",
       "      <td>6200    4TH                          AV</td>\n",
       "    </tr>\n",
       "    <tr>\n",
       "      <th>4</th>\n",
       "      <td>220213256</td>\n",
       "      <td>2022-07-14</td>\n",
       "      <td>2020-07-14</td>\n",
       "      <td>0900</td>\n",
       "      <td>Rampart</td>\n",
       "      <td>THEFT OF IDENTITY</td>\n",
       "      <td>79</td>\n",
       "      <td>M</td>\n",
       "      <td>B</td>\n",
       "      <td>NaN</td>\n",
       "      <td>Invest Cont</td>\n",
       "      <td>1200 W  7TH                          ST</td>\n",
       "    </tr>\n",
       "  </tbody>\n",
       "</table>\n",
       "</div>"
      ],
      "text/plain": [
       "       DR_NO   Date Rptd  ...  Status Desc                                 LOCATION\n",
       "0  220314085  2022-07-22  ...  Invest Cont  2500 S  SYCAMORE                     AV\n",
       "1  222013040  2022-08-06  ...  Invest Cont  3300    SAN MARINO                   ST\n",
       "2  220614831  2022-08-18  ...  Invest Cont                        1900    TRANSIENT\n",
       "3  231207725  2023-02-27  ...  Invest Cont  6200    4TH                          AV\n",
       "4  220213256  2022-07-14  ...  Invest Cont  1200 W  7TH                          ST\n",
       "\n",
       "[5 rows x 12 columns]"
      ]
     },
     "execution_count": 96,
     "metadata": {
      "application/com.datacamp.data-table.v2+json": {
       "status": "success"
      }
     },
     "output_type": "execute_result"
    }
   ],
   "source": [
    "# Import required libraries\n",
    "\n",
    "import pandas as pd\n",
    "import numpy as np\n",
    "import matplotlib.pyplot as plt\n",
    "import seaborn as sns\n",
    "crimes = pd.read_csv(\"crimes.csv\", dtype={\"TIME OCC\": str})\n",
    "crimes.head()"
   ]
  },
  {
   "cell_type": "code",
   "execution_count": 97,
   "id": "53eada96-447c-46c3-9848-f4ca3de53d06",
   "metadata": {
    "executionCancelledAt": null,
    "executionTime": 77,
    "lastExecutedAt": 1758292169779,
    "lastExecutedByKernel": "52e7cd52-15df-4cf2-9b4a-c78aaae7fe2f",
    "lastScheduledRunId": null,
    "lastSuccessfullyExecutedCode": "# Start coding here\n# Use as many cells as you need\ncrimes[\"TIME OCC\"] = crimes[\"TIME OCC\"].astype(\"str\")\ncrimes[\"TIME OCC\"] = crimes[\"TIME OCC\"].str[:2]\ncrimes[\"TIME OCC\"] = crimes[\"TIME OCC\"].astype(\"int\")\npeak_crime_hour = crimes[\"TIME OCC\"].mode()[0]\n\nprint(\"The peak crime hour is :\", peak_crime_hour, \"hour\")\n",
    "outputsMetadata": {
     "0": {
      "height": 38,
      "type": "stream"
     }
    }
   },
   "outputs": [
    {
     "name": "stdout",
     "output_type": "stream",
     "text": [
      "The peak crime hour is : 12 hour\n"
     ]
    }
   ],
   "source": [
    "\n",
    "crimes[\"TIME OCC\"] = crimes[\"TIME OCC\"].astype(\"str\")\n",
    "crimes[\"TIME OCC\"] = crimes[\"TIME OCC\"].str[:2]\n",
    "crimes[\"TIME OCC\"] = crimes[\"TIME OCC\"].astype(\"int\")\n",
    "peak_crime_hour = crimes[\"TIME OCC\"].mode()[0]\n",
    "\n",
    "print(\"The peak crime hour is :\", peak_crime_hour, \"hour\")\n"
   ]
  },
  {
   "cell_type": "code",
   "execution_count": 98,
   "id": "6bf14e40-7a06-449c-bef5-88c5813777d8",
   "metadata": {
    "executionCancelledAt": null,
    "executionTime": 62,
    "lastExecutedAt": 1758292169841,
    "lastExecutedByKernel": "52e7cd52-15df-4cf2-9b4a-c78aaae7fe2f",
    "lastScheduledRunId": null,
    "lastSuccessfullyExecutedCode": "night_crime = crimes[(crimes[\"TIME OCC\"] >= 2200) | (crimes[\"TIME OCC\"] < 400)]\nnight_crime[\"AREA NAME\"] = night_crime[\"AREA NAME\"].astype(\"str\")\npeak_night_crime_location = night_crime[\"AREA NAME\"].mode()[0]\nprint(\"The most dangerous area at night is :\", peak_night_crime_location)",
    "outputsMetadata": {
     "0": {
      "height": 38,
      "type": "stream"
     }
    }
   },
   "outputs": [
    {
     "name": "stdout",
     "output_type": "stream",
     "text": [
      "The most dangerous area at night is : Central\n"
     ]
    }
   ],
   "source": [
    "night_crime = crimes[(crimes[\"TIME OCC\"] >= 2200) | (crimes[\"TIME OCC\"] < 400)]\n",
    "night_crime[\"AREA NAME\"] = night_crime[\"AREA NAME\"].astype(\"str\")\n",
    "peak_night_crime_location = night_crime[\"AREA NAME\"].mode()[0]\n",
    "print(\"The most dangerous area at night is :\", peak_night_crime_location)"
   ]
  },
  {
   "cell_type": "code",
   "execution_count": 102,
   "id": "092639b3-95a4-428a-96df-ca6a1d31ccb2",
   "metadata": {
    "executionCancelledAt": null,
    "executionTime": null,
    "lastExecutedAt": null,
    "lastExecutedByKernel": null,
    "lastScheduledRunId": null,
    "lastSuccessfullyExecutedCode": null,
    "outputsMetadata": {
     "0": {
      "height": 248,
      "type": "stream"
     }
    }
   },
   "outputs": [
    {
     "name": "stdout",
     "output_type": "stream",
     "text": [
      "The total number of crime per victim age bin is :\n",
      "\n",
      " victim_ages\n",
      "0-17      4528\n",
      "18-25    28291\n",
      "26-34    47470\n",
      "35-44    42157\n",
      "45-54    28353\n",
      "55-64    20169\n",
      "65+      14747\n",
      "dtype: object\n"
     ]
    }
   ],
   "source": [
    "bins = [0, 17, 25, 34, 44, 54, 64, crimes[\"Vict Age\"].max()]\n",
    "labels = [\"0-17\", \"18-25\", \"26-34\", \"35-44\", \"45-54\", \"55-64\", \"65+\"]\n",
    "crimes[\"victim_ages\"] = pd.cut(crimes[\"Vict Age\"], bins=bins, labels=labels)\n",
    "victim_ages = crimes.groupby(\"victim_ages\").size().astype(\"object\")\n",
    "print(\"The total number of crime per victim age bin is :\\n\\n\",victim_ages)"
   ]
  }
 ],
 "metadata": {
  "colab": {
   "name": "Welcome to DataCamp Workspaces.ipynb",
   "provenance": []
  },
  "kernelspec": {
   "display_name": "Python [conda env:base] *",
   "language": "python",
   "name": "conda-base-py"
  },
  "language_info": {
   "codemirror_mode": {
    "name": "ipython",
    "version": 3
   },
   "file_extension": ".py",
   "mimetype": "text/x-python",
   "name": "python",
   "nbconvert_exporter": "python",
   "pygments_lexer": "ipython3",
   "version": "3.12.7"
  }
 },
 "nbformat": 4,
 "nbformat_minor": 5
}
